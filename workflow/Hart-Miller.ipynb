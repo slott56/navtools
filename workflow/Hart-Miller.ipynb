{
 "cells": [
  {
   "cell_type": "markdown",
   "id": "bb44328d-82a2-43f9-8f96-6e6223c8b331",
   "metadata": {
    "tags": []
   },
   "source": [
    "# Herrington to Hart-Miller Island"
   ]
  },
  {
   "cell_type": "markdown",
   "id": "c6ce7649-8ddc-42d7-88f0-4f176030578a",
   "metadata": {},
   "source": [
    "## OpenCPN Planning Extract\n",
    "\n",
    "This is the raw block of text to start with. We need to ingest the text to create a Route from it."
   ]
  },
  {
   "cell_type": "code",
   "execution_count": null,
   "id": "0f6efa22-c0f0-45b6-baab-37dac41f2ceb",
   "metadata": {},
   "outputs": [],
   "source": [
    "openCPN = \"\"\"\n",
    "Hart-Miller\n",
    "Name\tHart-Miller\n",
    "Depart From\tHart-Muller Is\n",
    "Destination\tHerrington Harbour N\n",
    "Total distance\t 36.1 NMi\n",
    "Speed (Kts)\t6\n",
    "Departure Time (%x %H:%M)\t08/30/2021 09:14\n",
    "Time enroute\t 6H  1M\n",
    "\n",
    "Leg\tTo waypoint\tDistance\tBearing\tLatitude\tLongitude\tETE\tETA\tSpeed\tNext tide event\tDescription\tCourse\tETD\t\t\n",
    "---\tHart-Milller Is\t 30.3 NMi\t28 °M\t39° 15.4' N\t076° 22.4' W\t 5H  3M\tStart: 08/30/2021 05:14 (Nighttime)\t6\t\t\t267 °M\t\t\t\n",
    "1\tHawk Cove G3\t  1.0 NMi\t267 °M\t39° 15.2' N\t076° 23.6' W\t 9M 34S\t08/30/2021 05:33 (MoTwilight)\t6\t\t\t192 °M\t\t\t\n",
    "2\tPleasure Is Ch N\t  0.9 NMi\t192 °M\t39° 14.3' N\t076° 23.7' W\t 8M 57S\t08/30/2021 05:42 (MoTwilight)\t6\t\t\t196 °M\t\t\t\n",
    "3\tPleasure Is Ch S\t  0.9 NMi\t196 °M\t39° 13.4' N\t076° 23.8' W\t 9M  5S\t08/30/2021 05:51 (MoTwilight)\t6\t\t\t171 °M\t\t\t\n",
    "4\tBrewerton Channel\t  4.3 NMi\t171 °M\t39° 09.4' N\t076° 21.9' W\t42M 31S\t08/30/2021 06:34 (Sunrise)\t6\t\t\t196 °M\t\t\t\n",
    "5\tSandy Point Shoal\t  8.5 NMi\t196 °M\t39° 00.9' N\t076° 22.8' W\t 1H 25M\t08/30/2021 07:59 (Daytime)\t6\t\t\t209 °M\t\t\t\n",
    "6\tThomas Point\t  7.7 NMi\t209 °M\t38° 53.6' N\t076° 25.8' W\t 1H 17M\t08/30/2021 09:16 (Daytime)\t6\t\tCRTD 06-DEC-96 15:55\t209 °M\t\t\t\n",
    "7\tChesapeake 85A\t  3.8 NMi\t209 °M\t38° 50.0' N\t076° 27.4' W\t38M 29S\t08/30/2021 09:54 (Daytime)\t6\t\t\t218 °M\t\t\t\n",
    "8\tHerring Bay G1\t  5.8 NMi\t218 °M\t38° 44.8' N\t076° 30.7' W\t58M  2S\t08/30/2021 10:52 (Daytime)\t6\t\t\t258 °M\t\t\t\n",
    "9\tHerring Bay\t  1.4 NMi\t258 °M\t38° 44.2' N\t076° 32.4' W\t14M 28S\t08/30/2021 11:07 (Daytime)\t6\t\t\t1 °M\t\t\t\n",
    "10\tHerring Bay G3\t  1.2 NMi\t1 °M\t38° 45.4' N\t076° 32.7' W\t11M 35S\t08/30/2021 11:18 (Daytime)\t6\t\t\t345 °M\t\t\t\n",
    "11\tHHN Entrance\t  0.6 NMi\t345 °M\t38° 45.9' N\t076° 33.0' W\t 6M 14S\t08/30/2021 11:24 (Daytime)\t6\t\t\tArrived\t\t\t\n",
    "\"\"\""
   ]
  },
  {
   "cell_type": "code",
   "execution_count": null,
   "id": "3ed656b3-fde1-42e3-8193-58c181508609",
   "metadata": {},
   "outputs": [],
   "source": [
    "from navtools import opencpn_table\n",
    "from io import StringIO"
   ]
  },
  {
   "cell_type": "code",
   "execution_count": null,
   "id": "339492e2-1a59-4627-bb58-b8c00e50e64d",
   "metadata": {},
   "outputs": [],
   "source": [
    "file = StringIO(openCPN)\n",
    "route = opencpn_table.route = opencpn_table.Route.load(file)"
   ]
  },
  {
   "cell_type": "code",
   "execution_count": null,
   "id": "c3bb6074-7ed5-4c01-b33c-b68c12efcb80",
   "metadata": {},
   "outputs": [],
   "source": [
    "route.title"
   ]
  },
  {
   "cell_type": "code",
   "execution_count": null,
   "id": "438801ae-26da-46a9-9b5f-b67f28d93009",
   "metadata": {},
   "outputs": [],
   "source": [
    "route.summary"
   ]
  },
  {
   "cell_type": "markdown",
   "id": "5d260b54-4aa4-4264-9eaf-8d341e0f70b5",
   "metadata": {},
   "source": [
    "## Confirm the source data\n",
    "\n",
    "This includes the OpenCPN ETA, which is (usually) the date we copied the route.\n",
    "\n",
    "Important. Leg 0 is misleading. It's how far OpenCPN thinks we need to go to get ready to start.\n",
    "We must ignore it.\n",
    "\n",
    "We can either check for ``leg.leg == 0`` or use a ``legs[1:]`` slice."
   ]
  },
  {
   "cell_type": "code",
   "execution_count": null,
   "id": "6434a598-c241-484d-b760-bb4a7051d039",
   "metadata": {},
   "outputs": [],
   "source": [
    "for leg in route.legs[1:]:\n",
    "    print(f\"{leg.waypoint.name}, {leg.waypoint.lat:%02.0d° %6.3m}, {leg.waypoint.lon:%03.0d° %6.3m}, {leg.distance}, {leg.bearing}, {leg.speed}, {leg.ETE.h}h {leg.ETE.m:d}m, {leg.ETA}\")"
   ]
  },
  {
   "cell_type": "markdown",
   "id": "7ce8f3d5-5c9e-4782-b8ef-04fc0aaf9960",
   "metadata": {},
   "source": [
    "## Replace the departure time and compute ETA's"
   ]
  },
  {
   "cell_type": "code",
   "execution_count": null,
   "id": "0a23251f-4028-47bc-a5ec-66386c5e59fd",
   "metadata": {},
   "outputs": [],
   "source": [
    "from IPython.display import Markdown as md"
   ]
  },
  {
   "cell_type": "code",
   "execution_count": null,
   "id": "a298f2e2-e706-4013-a997-98265734ef58",
   "metadata": {},
   "outputs": [],
   "source": [
    "from navtools.analysis import parse_date"
   ]
  },
  {
   "cell_type": "code",
   "execution_count": null,
   "id": "8893119a-7925-49a3-b83f-ed77dcbfe946",
   "metadata": {},
   "outputs": [],
   "source": [
    "ETD = parse_date(\"2021-9-17 8:00\")\n",
    "speed = 5.75"
   ]
  },
  {
   "cell_type": "code",
   "execution_count": null,
   "id": "cb933d83-36ea-4957-8191-4cae50ad0724",
   "metadata": {},
   "outputs": [],
   "source": [
    "%%capture route_2\n",
    "\n",
    "print(\"|\", \" | \".join([\"Name\",\"Lat\",\"Lon\",\"Dist\",\"Dir\",\"ETE\",\"ETA\"]), \"|\")\n",
    "print(\"|\", \" | \".join([\"----\",\"---\",\"---\",\"------:\",\"---:\",\"------\",\"------------\"]), \"|\")\n",
    "\n",
    "ETA = ETD\n",
    "for leg in route.legs[1:]:\n",
    "    ETE = opencpn_table.Duration.fromfloat(hours=leg.distance / speed)\n",
    "    ETA = ETA + ETE.timedelta\n",
    "    print(f\"| {leg.waypoint.name} | {leg.waypoint.lat:%02.0d° %06.3m} | {leg.waypoint.lon:%03.0d° %06.3m} | {leg.distance:0.1f} | {leg.bearing:03.0f} | {ETE.h}h {ETE.m:d}m | {ETA} |\")"
   ]
  },
  {
   "cell_type": "code",
   "execution_count": null,
   "id": "696a47e6-6f5c-4ddf-b1d3-ab9d6677c912",
   "metadata": {},
   "outputs": [],
   "source": [
    "md(route_2.stdout)"
   ]
  },
  {
   "cell_type": "markdown",
   "id": "7999b3c2-5053-46e6-a93d-8d191dcb6f3b",
   "metadata": {},
   "source": [
    "# Compute a Reciprocal Course\n",
    "\n",
    "With, of course, a distinct ETD.\n",
    "\n",
    "This is an analysis task, not an OpenCPN formatting task."
   ]
  },
  {
   "cell_type": "code",
   "execution_count": null,
   "id": "28fc5732-f281-413c-88a5-0a316bc0e97c",
   "metadata": {},
   "outputs": [],
   "source": [
    "from navtools import planning\n",
    "from navtools.navigation import declination, Angle"
   ]
  },
  {
   "cell_type": "code",
   "execution_count": null,
   "id": "c4835336-c02a-4f77-87dc-0f307a117a85",
   "metadata": {},
   "outputs": [],
   "source": [
    "recip_waypoints = list(leg.waypoint for leg in reversed(route.legs))"
   ]
  },
  {
   "cell_type": "code",
   "execution_count": null,
   "id": "be03cfc6-80ee-43d2-bf7c-50f2efffdb35",
   "metadata": {},
   "outputs": [],
   "source": [
    "recip_waypoints"
   ]
  },
  {
   "cell_type": "code",
   "execution_count": null,
   "id": "4084808d-1a81-4f10-97de-bacd807fa110",
   "metadata": {},
   "outputs": [],
   "source": [
    "ETD = parse_date(\"2021-9-15 8:00\")\n",
    "speed = 5.75"
   ]
  },
  {
   "cell_type": "code",
   "execution_count": null,
   "id": "8bc0d862-75ea-492b-867a-89716e0f17be",
   "metadata": {},
   "outputs": [],
   "source": [
    "recip_plan = list(planning.gen_schedule(recip_waypoints, declination, ETD, speed))"
   ]
  },
  {
   "cell_type": "code",
   "execution_count": null,
   "id": "0138547e-c2a6-43de-a2a0-0ac15e874d57",
   "metadata": {},
   "outputs": [],
   "source": [
    "%%capture route_1\n",
    "\n",
    "print(\"|\", \" | \".join([\"name\",\"Lat\",\"Lon\",\"Distance\",\"Bearing\",\"ETE\",\"ETA\"]), \"|\")\n",
    "print(\"|\", \" | \".join([\"----\",\"---\",\"---\",\"------:\",\"---:\",\"------\",\"------------\"]), \"|\")\n",
    "\n",
    "ETA = ETD\n",
    "for leg in recip_plan:\n",
    "    ETE = opencpn_table.Duration.fromfloat(hours=leg.distance / speed)\n",
    "    ETA = ETA + ETE.timedelta\n",
    "    print(f\"| {leg.waypoint.name} | {leg.waypoint.lat:%02.0d° %6.3m} | {leg.waypoint.lon:%03.0d° %6.3m} | {leg.distance:0.1f} | {leg.next_course or Angle.fromdegrees(0):%03.0d} | {ETE.h}h {ETE.m:d}m | {ETA} |\")"
   ]
  },
  {
   "cell_type": "code",
   "execution_count": null,
   "id": "88c6863a-0f2e-40d9-a4aa-a54b9306050b",
   "metadata": {},
   "outputs": [],
   "source": [
    "md(route_1.stdout)"
   ]
  },
  {
   "cell_type": "markdown",
   "id": "0650d102-9089-421d-9f63-2f0594b72f10",
   "metadata": {},
   "source": [
    "# Final Float Plan\n",
    "\n",
    "The float plan doc has four parts. \n",
    "\n",
    "1. Identification (Boilerplate)\n",
    "2. Itinerary (Markdown, computed above)\n",
    "3. Any notes or clarifications\n",
    "4. USCG RCC Contact Information (Boilerplate)\n",
    "\n",
    "There are several ways to publish a PDF from this.\n",
    "\n",
    "1. Emit a markdown file composed of the various parts, and run a separate Markdown-to-PDF converter (i.e. PyMarkdown)\n",
    "\n",
    "2. Use the Jupyter markdown capability by creating a second Notebook that contains *only* the final float-plan document. All the computation cells will have ``hide-input`` tag in their metadata to conceal the data imports."
   ]
  },
  {
   "cell_type": "code",
   "execution_count": null,
   "id": "9edd77ec-bd15-43bf-b809-e8d7cba60e60",
   "metadata": {},
   "outputs": [],
   "source": [
    "from pathlib import Path"
   ]
  },
  {
   "cell_type": "code",
   "execution_count": null,
   "id": "a79e91c2-c393-44d2-8374-166968d52932",
   "metadata": {},
   "outputs": [],
   "source": [
    "identification_path = Path(\"identification.md\")\n",
    "identification = identification_path.read_text()"
   ]
  },
  {
   "cell_type": "code",
   "execution_count": null,
   "id": "b48b68bc-080c-4dc2-9ae7-a1f382cd3c5a",
   "metadata": {},
   "outputs": [],
   "source": [
    "SAR = \"\"\"\n",
    "- RCC Norfolk. Commander 5th Coast Guard District Portsmouth, Virginia. Mid-Atlantic states including the majority of New Jersey down to the North Carolina/South Carolina Border. (757) 398-6231\n",
    "\n",
    "- RCC Miami. Commander 7th Coast Guard District Miami, Florida. Southeast states from the South Carolina/North Carolina border around to the eastern end of the Florida panhandle plus a large portion of the Caribbean Sea. (305) 415-6800\n",
    "\n",
    "- Bahamas Air-Sea Rescue Association (BASRA). Nassau, Bahamas. (242) 325-8864\n",
    "\"\"\""
   ]
  },
  {
   "cell_type": "code",
   "execution_count": null,
   "id": "bc8cf6f9-b1d6-46db-9a53-b292e60a89dc",
   "metadata": {},
   "outputs": [],
   "source": [
    "md(identification)"
   ]
  },
  {
   "cell_type": "code",
   "execution_count": null,
   "id": "2f9dffda-e1df-4e0e-a12c-4a116fcb7023",
   "metadata": {},
   "outputs": [],
   "source": [
    "md(route_1.stdout)"
   ]
  },
  {
   "cell_type": "code",
   "execution_count": null,
   "id": "e70c8e63-c61f-44ca-8ab3-8b4911e082d4",
   "metadata": {},
   "outputs": [],
   "source": [
    "notes = None"
   ]
  },
  {
   "cell_type": "code",
   "execution_count": null,
   "id": "c1630792-7a90-4834-a0f4-56b2f3553055",
   "metadata": {},
   "outputs": [],
   "source": [
    "md(SAR)"
   ]
  },
  {
   "cell_type": "markdown",
   "id": "9dc84fe9-0007-4827-8956-05fd42e19160",
   "metadata": {},
   "source": [
    "## Option 1: Single .MD file"
   ]
  },
  {
   "cell_type": "code",
   "execution_count": null,
   "id": "51dba5f7-6c0c-4bc1-9073-575e291e625a",
   "metadata": {},
   "outputs": [],
   "source": [
    "from string import Template\n",
    "import datetime"
   ]
  },
  {
   "cell_type": "code",
   "execution_count": null,
   "id": "de8148b5-244f-4819-b401-4407b9732100",
   "metadata": {},
   "outputs": [],
   "source": [
    "fp_template = Template(\"\"\"\\\n",
    "# Float Plan for S/V Red Ranger\n",
    "\n",
    "${Now}\n",
    "\n",
    "# Vessel Identification\n",
    "\n",
    "${Identification}\n",
    "\n",
    "# Itinerary\n",
    "\n",
    "${Itinerary}\n",
    "\n",
    "# Notes\n",
    "\n",
    "${Notes}\n",
    "\n",
    "# Search and Rescue Contacts\n",
    "${SAR}\n",
    "\"\"\")"
   ]
  },
  {
   "cell_type": "code",
   "execution_count": null,
   "id": "89ca2386-5c77-4a93-a025-a17ffadb296a",
   "metadata": {},
   "outputs": [],
   "source": [
    "target = Path(\"To Hart-Miller.md\")\n",
    "body = fp_template.substitute(\n",
    "    Now=datetime.datetime.now().isoformat(),\n",
    "    Identification=identification,\n",
    "    Itinerary=route_1.stdout,\n",
    "    Notes=notes,\n",
    "    SAR=SAR,\n",
    ")\n",
    "target.write_text(body)"
   ]
  },
  {
   "cell_type": "markdown",
   "id": "0914537f-4c2b-4c04-8f3d-c69ff929893d",
   "metadata": {},
   "source": [
    "When we create HTML, we need to \"wrap\" the HTML into a larger document. This can have a header that provides appropriate CSS styling that helps with printing or saving as PDF.\n",
    "\n",
    "This works, but it limited to creating HTML only.\n",
    "\n",
    "    !python -m markdown -x markdown.extensions.tables \"To Hart-Miller.md\" >\"To Hart-Miller.html\""
   ]
  },
  {
   "cell_type": "markdown",
   "id": "c0637fbf-8f8d-4e6b-9f93-d88ee4dadb85",
   "metadata": {},
   "source": [
    "This is slightly more general, because it relies on the super-powerful pandoc tool."
   ]
  },
  {
   "cell_type": "code",
   "execution_count": null,
   "id": "f3d5d3ee-3e57-46d8-8397-9b4ba6b9d649",
   "metadata": {},
   "outputs": [],
   "source": [
    "!pandoc --from markdown+pipe_tables \"To Hart-Miller.md\" -o \"To Hart-Miller.html\""
   ]
  },
  {
   "cell_type": "code",
   "execution_count": null,
   "id": "6eda266b-2e87-40fa-a5dd-1c7f62689d59",
   "metadata": {
    "tags": []
   },
   "outputs": [],
   "source": [
    "!pandoc --from markdown+pipe_tables \"To Hart-Miller.md\" -o \"To Hart-Miller.pdf\""
   ]
  },
  {
   "cell_type": "code",
   "execution_count": null,
   "id": "da52b838-0b7a-4f93-8ea7-2e03738e4d8b",
   "metadata": {},
   "outputs": [],
   "source": [
    "target = Path(\"From Hart-Miller.md\")\n",
    "body = fp_template.substitute(\n",
    "    Now=datetime.datetime.now().isoformat(),\n",
    "    Identification=identification,\n",
    "    Itinerary=route_2.stdout,\n",
    "    Notes=notes,\n",
    "    SAR=SAR,\n",
    ")\n",
    "target.write_text(body)"
   ]
  },
  {
   "cell_type": "code",
   "execution_count": null,
   "id": "f8975c81-66d6-4e38-b399-3eff92981c54",
   "metadata": {
    "tags": []
   },
   "outputs": [],
   "source": [
    "!pandoc --from markdown+pipe_tables \"From Hart-Miller.md\" -o \"From Hart-Miller.pdf\""
   ]
  },
  {
   "cell_type": "markdown",
   "id": "5895501f-67a2-45c5-99c5-3fa1d938daee",
   "metadata": {},
   "source": [
    "## Option 2: Save itineraries for a separate notebooks"
   ]
  },
  {
   "cell_type": "code",
   "execution_count": null,
   "id": "7babd566-aaea-48fc-8951-802a9827ef30",
   "metadata": {},
   "outputs": [],
   "source": [
    "route_path1 = Path(\"to_hart_miller.md\")\n",
    "route_path1.write_text(route_1.stdout)"
   ]
  },
  {
   "cell_type": "code",
   "execution_count": null,
   "id": "fd53efa7-693d-4d1a-ac8c-f94dcc59bc88",
   "metadata": {},
   "outputs": [],
   "source": [
    "route_path2 = Path(\"from_hart_miller.md\")\n",
    "route_path2.write_text(route_2.stdout)"
   ]
  },
  {
   "cell_type": "markdown",
   "id": "44100754-7115-405e-bc75-c1ce25cc54d7",
   "metadata": {
    "tags": []
   },
   "source": [
    "Open the ``FloatPlanTemplate.ipynb`` notebook and customize to ingest the Markdown itinerary.\n",
    "\n",
    "Then export the notebook as a PDF file using Jupyter Lab's internal pandoc to create the final PDF.\n",
    "\n",
    "Or\n",
    "\n",
    "     jupyter nbconvert FloatPlanTemplate.ipynb --to pdf --no-input"
   ]
  },
  {
   "cell_type": "code",
   "execution_count": null,
   "id": "abb1108d-ed01-4eaa-b9d7-28aea603fa23",
   "metadata": {},
   "outputs": [],
   "source": []
  }
 ],
 "metadata": {
  "kernelspec": {
   "display_name": "Python 3 (ipykernel)",
   "language": "python",
   "name": "python3"
  },
  "language_info": {
   "codemirror_mode": {
    "name": "ipython",
    "version": 3
   },
   "file_extension": ".py",
   "mimetype": "text/x-python",
   "name": "python",
   "nbconvert_exporter": "python",
   "pygments_lexer": "ipython3",
   "version": "3.9.5"
  }
 },
 "nbformat": 4,
 "nbformat_minor": 5
}
