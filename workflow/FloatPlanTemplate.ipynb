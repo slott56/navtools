{
 "cells": [
  {
   "cell_type": "markdown",
   "id": "265ca09d-f10c-4d6c-b49c-9454f69b5747",
   "metadata": {},
   "source": [
    "# Float Plan for S/V Red Ranger"
   ]
  },
  {
   "cell_type": "code",
   "execution_count": null,
   "id": "7487af77-114c-42a0-b809-33796ad5c685",
   "metadata": {
    "tags": [
     "hide-input"
    ]
   },
   "outputs": [],
   "source": [
    "import datetime\n",
    "from IPython.display import Markdown as md\n",
    "md(datetime.datetime.now().isoformat())"
   ]
  },
  {
   "cell_type": "markdown",
   "id": "f0ac4e4a-984e-4ded-b49e-a10efbe7ffe1",
   "metadata": {},
   "source": [
    "## Identification"
   ]
  },
  {
   "cell_type": "code",
   "execution_count": null,
   "id": "e44206e3-142d-4dab-9ee6-624b15e2f4be",
   "metadata": {
    "tags": [
     "hide-input"
    ]
   },
   "outputs": [],
   "source": [
    "from pathlib import Path \n",
    "identification_path = Path(\"identification.md\")\n",
    "identification = identification_path.read_text()\n",
    "md(identification)"
   ]
  },
  {
   "cell_type": "markdown",
   "id": "b8d4cc28-5057-484d-8376-945c3d482272",
   "metadata": {},
   "source": [
    "## Itinerary"
   ]
  },
  {
   "cell_type": "code",
   "execution_count": null,
   "id": "69a64af9-86de-49bc-a13b-bb53e7e30544",
   "metadata": {
    "tags": [
     "hide-input"
    ]
   },
   "outputs": [],
   "source": [
    "itinerary_path = Path(\"to_hart_miller.md\")\n",
    "itinerary = itinerary_path.read_text()\n",
    "md(itinerary)"
   ]
  },
  {
   "cell_type": "markdown",
   "id": "6f8636e7-0df4-4f67-bc10-8a841c1b59b8",
   "metadata": {},
   "source": [
    "## Notes"
   ]
  },
  {
   "cell_type": "markdown",
   "id": "68b5f528-474f-417d-b005-24c5a6be93de",
   "metadata": {},
   "source": [
    "None"
   ]
  },
  {
   "cell_type": "markdown",
   "id": "b0afe4a5-aa65-4281-bf1b-55e3d4fcc0a3",
   "metadata": {},
   "source": [
    "## Search and Rescue Contacts\n",
    "\n",
    "\n",
    "- RCC Norfolk. Commander 5th Coast Guard District Portsmouth, Virginia. Mid-Atlantic states including the majority of New Jersey down to the North Carolina/South Carolina Border. (757) 398-6231\n",
    "\n",
    "- RCC Miami. Commander 7th Coast Guard District Miami, Florida. Southeast states from the South Carolina/North Carolina border around to the eastern end of the Florida panhandle plus a large portion of the Caribbean Sea. (305) 415-6800\n",
    "\n",
    "- Bahamas Air-Sea Rescue Association (BASRA). Nassau, Bahamas. (242) 325-8864"
   ]
  }
 ],
 "metadata": {
  "kernelspec": {
   "display_name": "Python 3 (ipykernel)",
   "language": "python",
   "name": "python3"
  },
  "language_info": {
   "codemirror_mode": {
    "name": "ipython",
    "version": 3
   },
   "file_extension": ".py",
   "mimetype": "text/x-python",
   "name": "python",
   "nbconvert_exporter": "python",
   "pygments_lexer": "ipython3",
   "version": "3.9.5"
  }
 },
 "nbformat": 4,
 "nbformat_minor": 5
}
